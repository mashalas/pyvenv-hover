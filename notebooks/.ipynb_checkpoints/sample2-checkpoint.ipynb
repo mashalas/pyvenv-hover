{
 "cells": [
  {
   "cell_type": "code",
   "execution_count": 47,
   "id": "e36e03b5",
   "metadata": {},
   "outputs": [
    {
     "name": "stdout",
     "output_type": "stream",
     "text": [
      "read_csv completed\n"
     ]
    }
   ],
   "source": [
    "#import \"../../read_table.py\"\n",
    "import pandas as pd\n",
    "import numpy as np\n",
    "from sklearn.model_selection import train_test_split\n",
    "\n",
    "data = pd.read_csv(\"/mnt/lindata/c1.xls\", delimiter = \"\\t\")\n",
    "\"\"\"data = pd.read_csv(\"/mnt/lindata/tmp2/pandas_tutorial_read.csv\", \n",
    "                   delimiter = \";\",\n",
    "                  names=['my_datetime', 'event', 'country', 'user_id', 'source', 'topic']\n",
    ")\"\"\"\n",
    "print(\"read_csv completed\")"
   ]
  },
  {
   "cell_type": "code",
   "execution_count": 36,
   "id": "ee1dbf2c",
   "metadata": {},
   "outputs": [
    {
     "name": "stdout",
     "output_type": "stream",
     "text": [
      "Количество строк: 120047\n",
      "<class 'pandas.core.frame.DataFrame'>\n",
      "RangeIndex: 120047 entries, 0 to 120046\n",
      "Data columns (total 9 columns):\n",
      " #   Column    Non-Null Count   Dtype \n",
      "---  ------    --------------   ----- \n",
      " 0   SN        120047 non-null  object\n",
      " 1   DateTime  120047 non-null  object\n",
      " 2   POpen     120047 non-null  object\n",
      " 3   PHigh     120047 non-null  object\n",
      " 4   PLow      120047 non-null  object\n",
      " 5   PClose    120047 non-null  object\n",
      " 6   Ind#1     120047 non-null  object\n",
      " 7   Ind#2     120047 non-null  object\n",
      " 8   Ind#3     120047 non-null  object\n",
      "dtypes: object(9)\n",
      "memory usage: 8.2+ MB\n"
     ]
    }
   ],
   "source": [
    "print(\"Количество строк:\", len(data))\n",
    "\n",
    "#print(\"Уникальных стран:\", len(data[\"country\"].unique()))\n",
    "#unique_countries = data[\"country\"].unique()\n",
    "#unique_countries.sort()\n",
    "#print(\"Список стран:\", unique_countries)\n",
    "\n",
    "#data.head(5) # первые 5 строк\n",
    "#data.tail(5) # последние 5 строк\n",
    "#data.sample(5) # случайные 5 строк (не обязательно в возрастающем порядке)\n",
    "data.info() # количество строк, типы данных для столбцов\n",
    "#data.describe()"
   ]
  },
  {
   "cell_type": "code",
   "execution_count": 27,
   "id": "295d2c24",
   "metadata": {},
   "outputs": [],
   "source": [
    "#data[[\"country\", \"user_id\"]] # первые и последние 5 строк указанных столбцов"
   ]
  },
  {
   "cell_type": "code",
   "execution_count": 53,
   "id": "ff326cbd",
   "metadata": {},
   "outputs": [],
   "source": [
    "#print(data[[\"POpen\"]])\n",
    "X = data[[\"POpen\", \"PHigh\", \"PLow\"]].to_numpy() # указывать именно две квадратные скобки\n",
    "Y = data[[\"PClose\"]].to_numpy()\n",
    "X_train, X_test, Y_train, Y_test = train_test_split(X, Y, train_size=0.67, random_state=42)"
   ]
  },
  {
   "cell_type": "code",
   "execution_count": 56,
   "id": "232b664b",
   "metadata": {},
   "outputs": [
    {
     "name": "stdout",
     "output_type": "stream",
     "text": [
      "X: [['1,09910' '1,09950' '1,09760']\n",
      " ['1,09800' '1,09910' '1,09770']\n",
      " ['1,09870' '1,09910' '1,09750']\n",
      " ...\n",
      " ['1,01877' '1,01954' '1,01846']\n",
      " ['1,01902' '1,01948' '1,01597']\n",
      " ['1,01751' '1,01942' '1,01648']]\n",
      "X_train: [['1,39020' '1,39140' '1,38940']\n",
      " ['1,11731' '1,11760' '1,11704']\n",
      " ['1,12746' '1,12828' '1,12667']\n",
      " ...\n",
      " ['1,11442' '1,11449' '1,11411']\n",
      " ['1,17840' '1,18280' '1,17730']\n",
      " ['1,19370' '1,19470' '1,19310']]\n",
      "X_test: [['1,17707' '1,17887' '1,17656']\n",
      " ['1,30610' '1,30760' '1,30590']\n",
      " ['1,16635' '1,16679' '1,16556']\n",
      " ...\n",
      " ['1,19340' '1,19430' '1,19240']\n",
      " ['1,08670' '1,08750' '1,08600']\n",
      " ['1,27420' '1,27470' '1,27400']]\n",
      "----------------------\n",
      "Y: [['1,09810']\n",
      " ['1,09880']\n",
      " ['1,09850']\n",
      " ...\n",
      " ['1,01914']\n",
      " ['1,01751']\n",
      " ['1,01862']]\n",
      "Y_train: [['1,39110']\n",
      " ['1,11750']\n",
      " ['1,12815']\n",
      " ...\n",
      " ['1,11437']\n",
      " ['1,18140']\n",
      " ['1,19400']]\n",
      "Y_test: [['1,17773']\n",
      " ['1,30720']\n",
      " ['1,16584']\n",
      " ...\n",
      " ['1,19330']\n",
      " ['1,08640']\n",
      " ['1,27420']]\n"
     ]
    }
   ],
   "source": [
    "print(\"X:\", X)\n",
    "print(\"X_train:\", X_train)\n",
    "print(\"X_test:\", X_test)\n",
    "print (\"----------------------\")\n",
    "\n",
    "print(\"Y:\", Y)\n",
    "print(\"Y_train:\", Y_train)\n",
    "print(\"Y_test:\", Y_test)\n"
   ]
  },
  {
   "cell_type": "code",
   "execution_count": null,
   "id": "9e890d73",
   "metadata": {},
   "outputs": [],
   "source": [
    "# Линейная регрессия\n",
    "from sklearn import linear_model\n",
    "reg = linear_model.LinearRegression()\n",
    "reg.fit(X_train, Y_train)"
   ]
  },
  {
   "cell_type": "code",
   "execution_count": null,
   "id": "84d6843e",
   "metadata": {},
   "outputs": [],
   "source": []
  },
  {
   "cell_type": "code",
   "execution_count": null,
   "id": "5d3fa031",
   "metadata": {},
   "outputs": [],
   "source": []
  },
  {
   "cell_type": "code",
   "execution_count": null,
   "id": "130256b5",
   "metadata": {},
   "outputs": [],
   "source": []
  },
  {
   "cell_type": "code",
   "execution_count": null,
   "id": "d288893f",
   "metadata": {},
   "outputs": [],
   "source": [
    "data = None"
   ]
  }
 ],
 "metadata": {
  "kernelspec": {
   "display_name": "Python 3 (ipykernel)",
   "language": "python",
   "name": "python3"
  },
  "language_info": {
   "codemirror_mode": {
    "name": "ipython",
    "version": 3
   },
   "file_extension": ".py",
   "mimetype": "text/x-python",
   "name": "python",
   "nbconvert_exporter": "python",
   "pygments_lexer": "ipython3",
   "version": "3.8.11"
  }
 },
 "nbformat": 4,
 "nbformat_minor": 5
}
